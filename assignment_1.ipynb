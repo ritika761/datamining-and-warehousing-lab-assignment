{
  "nbformat": 4,
  "nbformat_minor": 0,
  "metadata": {
    "colab": {
      "provenance": []
    },
    "kernelspec": {
      "name": "python3",
      "display_name": "Python 3"
    },
    "language_info": {
      "name": "python"
    }
  },
  "cells": [
    {
      "cell_type": "code",
      "execution_count": 1,
      "metadata": {
        "colab": {
          "base_uri": "https://localhost:8080/"
        },
        "id": "mZ7N15NGSzak",
        "outputId": "e12f0029-c3cb-4729-8318-7a20ead777f0"
      },
      "outputs": [
        {
          "output_type": "stream",
          "name": "stdout",
          "text": [
            "Mean / Average is: 3.0\n"
          ]
        }
      ],
      "source": [
        "# mean without using libaries\n",
        "n_num = [1, 2, 3, 4, 5]\n",
        "\n",
        "n = len(n_num)\n",
        "\n",
        "get_sum = sum(n_num)\n",
        "\n",
        "mean = get_sum / n\n",
        "\n",
        "print(\"Mean / Average is: \" + str(mean))"
      ]
    },
    {
      "cell_type": "code",
      "source": [
        "\n",
        "# Median without using library\n",
        "\n",
        "n_num = [1, 2, 3, 4, 5]\n",
        "\n",
        "n = len(n_num)\n",
        "\n",
        "n_num.sort()\n",
        "\n",
        "if n % 2 == 0:\n",
        "\n",
        "    median1 = n_num[n//2]\n",
        "\n",
        "    median2 = n_num[n//2 - 1]\n",
        "\n",
        "    median = (median1 + median2)/2\n",
        "\n",
        "else:\n",
        "\n",
        "     median = n_num[n//2]\n",
        "\n",
        "     print(\"Median is: \" + str(median))"
      ],
      "metadata": {
        "colab": {
          "base_uri": "https://localhost:8080/"
        },
        "id": "5c8HNzeAUFp9",
        "outputId": "82d0c5a1-ca2f-4c35-88c3-767464e9a905"
      },
      "execution_count": 3,
      "outputs": [
        {
          "output_type": "stream",
          "name": "stdout",
          "text": [
            "Median is: 3\n"
          ]
        }
      ]
    },
    {
      "cell_type": "code",
      "source": [
        "# Python program to print mode of elements\n",
        "\n",
        "from collections import Counter\n",
        "\n",
        "n_num = [1, 2, 3, 4, 5, 5]\n",
        "\n",
        "n = len(n_num)\n",
        "\n",
        "data = Counter(n_num)\n",
        "\n",
        "get_mode = dict(data)\n",
        "\n",
        "mode = [k for k, v in get_mode.items() if v==\n",
        "max(list(data.values()))]\n",
        "\n",
        "if len(mode) == n:\n",
        "\n",
        "    get_mode = \"No mode found\"\n",
        "\n",
        "else:\n",
        "\n",
        "    get_mode = \"Mode is / are: \" + ', '.join(map(str, mode))\n",
        "\n",
        "    print(get_mode)"
      ],
      "metadata": {
        "colab": {
          "base_uri": "https://localhost:8080/"
        },
        "id": "g1RZB_wCUqBF",
        "outputId": "7c91b6e6-9d0a-4faf-f76f-55edda105648"
      },
      "execution_count": 4,
      "outputs": [
        {
          "output_type": "stream",
          "name": "stdout",
          "text": [
            "Mode is / are: 5\n"
          ]
        }
      ]
    },
    {
      "cell_type": "code",
      "source": [
        "# mode using libaries mean\n",
        "import numpy\n",
        "\n",
        "speed = [99,86,87,88,111,86,103,87,94,78,77,85,86]\n",
        "x = numpy.mean(speed)\n",
        "\n",
        "print(x)"
      ],
      "metadata": {
        "colab": {
          "base_uri": "https://localhost:8080/"
        },
        "id": "BgdmlxVBU-C1",
        "outputId": "d4370e65-8564-4947-9e95-b0123414ddc5"
      },
      "execution_count": 5,
      "outputs": [
        {
          "output_type": "stream",
          "name": "stdout",
          "text": [
            "89.76923076923077\n",
            "87.0\n",
            "9.258292301032677\n",
            "85.71597633136093\n"
          ]
        }
      ]
    },
    {
      "cell_type": "code",
      "source": [
        "# mode using libaries\n",
        "from scipy import stats\n",
        "\n",
        "speed = [99,86,87,88,111,86,103,87,94,78,77,85,86]\n",
        "\n",
        "x = stats.mode(speed)\n",
        "\n",
        "print(x)"
      ],
      "metadata": {
        "colab": {
          "base_uri": "https://localhost:8080/"
        },
        "id": "Q46DhN39VPza",
        "outputId": "47d18ad9-1b93-402a-ad94-4377457cb0d3"
      },
      "execution_count": 6,
      "outputs": [
        {
          "output_type": "stream",
          "name": "stdout",
          "text": [
            "ModeResult(mode=array([86]), count=array([3]))\n"
          ]
        },
        {
          "output_type": "stream",
          "name": "stderr",
          "text": [
            "<ipython-input-6-eabb8c74ca85>:6: FutureWarning: Unlike other reduction functions (e.g. `skew`, `kurtosis`), the default behavior of `mode` typically preserves the axis it acts along. In SciPy 1.11.0, this behavior will change: the default value of `keepdims` will become False, the `axis` over which the statistic is taken will be eliminated, and the value None will no longer be accepted. Set `keepdims` to True or False to avoid this warning.\n",
            "  x = stats.mode(speed)\n"
          ]
        }
      ]
    },
    {
      "cell_type": "code",
      "source": [
        "# median using libaries\n",
        "import numpy\n",
        "speed = [99,86,87,88,111,86,103,87,94,78,77,85,86]\n",
        "y = numpy.median(speed)\n",
        "print(y)\n",
        "\n"
      ],
      "metadata": {
        "colab": {
          "base_uri": "https://localhost:8080/"
        },
        "id": "faG5kD0tV76V",
        "outputId": "39f5b91b-2dc5-43b1-abb4-aab16eb28f6d"
      },
      "execution_count": 7,
      "outputs": [
        {
          "output_type": "stream",
          "name": "stdout",
          "text": [
            "87.0\n"
          ]
        }
      ]
    },
    {
      "cell_type": "code",
      "source": [
        "# standard devation using libaries\n",
        "import numpy\n",
        "speed = [99,86,87,88,111,86,103,87,94,78,77,85,86]\n",
        "s = numpy.std(speed)\n",
        "print(s)\n",
        "\n"
      ],
      "metadata": {
        "colab": {
          "base_uri": "https://localhost:8080/"
        },
        "id": "2R0V_bnCZusn",
        "outputId": "b9c66f11-c8c3-4888-fa63-1d837f243f35"
      },
      "execution_count": 8,
      "outputs": [
        {
          "output_type": "stream",
          "name": "stdout",
          "text": [
            "9.258292301032677\n"
          ]
        }
      ]
    },
    {
      "cell_type": "code",
      "source": [
        "#  variance using libaries\n",
        "import numpy\n",
        "speed = [99,86,87,88,111,86,103,87,94,78,77,85,86]\n",
        "v = numpy.var(speed)\n",
        "print(v)\n"
      ],
      "metadata": {
        "colab": {
          "base_uri": "https://localhost:8080/"
        },
        "id": "O7Df48fGabzU",
        "outputId": "74b44b02-0d5a-4a53-a832-7bcd739ae275"
      },
      "execution_count": 10,
      "outputs": [
        {
          "output_type": "stream",
          "name": "stdout",
          "text": [
            "85.71597633136093\n"
          ]
        }
      ]
    }
  ]
}